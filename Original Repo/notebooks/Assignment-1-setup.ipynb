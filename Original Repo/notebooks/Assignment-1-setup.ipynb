{
 "cells": [
  {
   "cell_type": "markdown",
   "metadata": {},
   "source": [
    "## Setting up assignment 1\n",
    "\n"
   ]
  },
  {
   "cell_type": "raw",
   "metadata": {},
   "source": [
    "Pull the updated code from the repo: https://github.com/sarah-keren/turtlebot3_67301 (using the git pull command)"
   ]
  },
  {
   "cell_type": "raw",
   "metadata": {},
   "source": [
    "Set up the environment (the same as we have done so far). "
   ]
  },
  {
   "cell_type": "markdown",
   "metadata": {},
   "source": [
    "Remember that you can add the commands 'source devel/setup.bash' 'export TURTLEBOT3_MODEL=burger' to the bash, so they are executed automatically.\n",
    "Note that you need to run the catkin_make command if you change the code and add new modules to the framework."
   ]
  },
  {
   "cell_type": "code",
   "execution_count": null,
   "metadata": {},
   "outputs": [],
   "source": [
    "$ cd ~/catkin_ws/\n",
    "$ source devel/setup.bash\n",
    "$ export TURTLEBOT3_MODEL=burger\n",
    "$ roslaunch turtlebot3_67301 turtlebot3_closed_room.launch"
   ]
  },
  {
   "cell_type": "markdown",
   "metadata": {},
   "source": [
    "In a new terminal, run the navigation stack. You can specify your desired map. "
   ]
  },
  {
   "cell_type": "code",
   "execution_count": null,
   "metadata": {},
   "outputs": [],
   "source": [
    "$ cd ~/catkin_ws/\n",
    "$ source devel/setup.bash\n",
    "$ export TURTLEBOT3_MODEL=burger\n",
    "$ roslaunch turtlebot3_navigation turtlebot3_navigation.launch map_file:=$HOME/catkin_ws/src/turtlebot3_67301/maps/closed_room.yaml"
   ]
  },
  {
   "cell_type": "markdown",
   "metadata": {},
   "source": [
    "Open the rviz window by clicking the small computer icon on the bottom left. In order to run your solution, we will now use the python module assignment_1.py. We will pass it one of three arguments: cleaning, inspection or inspection-color"
   ]
  },
  {
   "cell_type": "code",
   "execution_count": null,
   "metadata": {},
   "outputs": [],
   "source": [
    "$ cd ~/catkin_ws/\n",
    "$ source devel/setup.bash\n",
    "$ export TURTLEBOT3_MODEL=burger\n",
    "$ rosrun turtlebot3_67301 assignment_1.py cleaning"
   ]
  }
 ],
 "metadata": {
  "kernelspec": {
   "display_name": "Python 2",
   "language": "python",
   "name": "python2"
  },
  "language_info": {
   "codemirror_mode": {
    "name": "ipython",
    "version": 2
   },
   "file_extension": ".py",
   "mimetype": "text/x-python",
   "name": "python",
   "nbconvert_exporter": "python",
   "pygments_lexer": "ipython2",
   "version": "2.7.16"
  }
 },
 "nbformat": 4,
 "nbformat_minor": 1
}
