{
 "cells": [
  {
   "cell_type": "markdown",
   "metadata": {},
   "source": [
    "## Creating a map\n",
    "\n",
    "We are about to create a map of the house. Follow the instructions below. "
   ]
  },
  {
   "cell_type": "raw",
   "metadata": {},
   "source": [
    "Set up the environment"
   ]
  },
  {
   "cell_type": "code",
   "execution_count": null,
   "metadata": {},
   "outputs": [],
   "source": [
    "$ cd ~/catkin_ws/\n",
    "$ source devel/setup.bash\n",
    "$ export TURTLEBOT3_MODEL=burger\n",
    "$ roslaunch turtlebot3_gazebo turtlebot3_house.launch"
   ]
  },
  {
   "cell_type": "markdown",
   "metadata": {},
   "source": [
    "In a new terminal, run the SLAM node "
   ]
  },
  {
   "cell_type": "code",
   "execution_count": null,
   "metadata": {},
   "outputs": [],
   "source": [
    "$ cd ~/catkin_ws/\n",
    "$ source devel/setup.bash\n",
    "$ export TURTLEBOT3_MODEL=burger\n",
    "$ roslaunch turtlebot3_slam turtlebot3_slam.launch slam_methods:=gmapping\n"
   ]
  },
  {
   "cell_type": "markdown",
   "metadata": {},
   "source": [
    "In a new terminal, run the following commands"
   ]
  },
  {
   "cell_type": "code",
   "execution_count": null,
   "metadata": {},
   "outputs": [],
   "source": [
    "$ cd ~/catkin_ws/\n",
    "$ source devel/setup.bash\n",
    "$ export TURTLEBOT3_MODEL=burger\n",
    "$ roslaunch turtlebot3_teleop turtlebot3_teleop_key.launch"
   ]
  },
  {
   "cell_type": "markdown",
   "metadata": {},
   "source": [
    "Open the rviz window by clicking the small computer icon on the bottom left"
   ]
  },
  {
   "cell_type": "markdown",
   "metadata": {},
   "source": [
    "Move the turtlebot around and make sure to map the entire house. When you are done, save the map in a your chosen LOCATION "
   ]
  },
  {
   "cell_type": "code",
   "execution_count": null,
   "metadata": {},
   "outputs": [],
   "source": [
    "$ rosrun map_server map_saver -f ~/[LOCATION]/map"
   ]
  }
 ],
 "metadata": {
  "kernelspec": {
   "display_name": "Python 2",
   "language": "python",
   "name": "python2"
  },
  "language_info": {
   "codemirror_mode": {
    "name": "ipython",
    "version": 2
   },
   "file_extension": ".py",
   "mimetype": "text/x-python",
   "name": "python",
   "nbconvert_exporter": "python",
   "pygments_lexer": "ipython2",
   "version": "2.7.16"
  }
 },
 "nbformat": 4,
 "nbformat_minor": 1
}
