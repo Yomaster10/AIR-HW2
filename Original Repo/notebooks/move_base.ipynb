{
 "cells": [
  {
   "cell_type": "markdown",
   "metadata": {},
   "source": [
    "## Moving the robot around\n",
    "\n",
    "We are about to create a map of the house. Follow the instructions below. "
   ]
  },
  {
   "cell_type": "raw",
   "metadata": {},
   "source": [
    "Pull the updated code from the repo: https://github.com/sarah-keren/turtlebot3_67301 (using the git pull command)"
   ]
  },
  {
   "cell_type": "raw",
   "metadata": {},
   "source": [
    "Set up the environment (the same as we have done so far)"
   ]
  },
  {
   "cell_type": "code",
   "execution_count": null,
   "metadata": {},
   "outputs": [],
   "source": [
    "$ cd ~/catkin_ws/\n",
    "$ source devel/setup.bash\n",
    "$ export TURTLEBOT3_MODEL=burger\n",
    "$ roslaunch turtlebot3_gazebo turtlebot3_house.launch"
   ]
  },
  {
   "cell_type": "markdown",
   "metadata": {},
   "source": [
    "In a new terminal, run the nvigation code."
   ]
  },
  {
   "cell_type": "code",
   "execution_count": null,
   "metadata": {},
   "outputs": [],
   "source": [
    "$ cd ~/catkin_ws/\n",
    "$ source devel/setup.bash\n",
    "$ export TURTLEBOT3_MODEL=burger\n",
    "$ roslaunch turtlebot3_navigation turtlebot3_navigation.launch map_file:=$HOME/catkin_ws/src/turtlebot3_67301/maps/house_map.yaml"
   ]
  },
  {
   "cell_type": "markdown",
   "metadata": {},
   "source": [
    "Open the rviz window by clicking the small computer icon on the bottom left. You should be able to localize the robot and give it movement commands.\n",
    "\n",
    "To localize the robot, use the 2D Pose Estimate botton. It will allow you to specify the robot's position (arrow source) and it's orientation (arrow direction) on the map. \n",
    "To give the robot movement commands, use the 2D Nav Goal botton. It will allow you specify a desired destination for the robot. Try giving it both reachable and non-reachable goals. "
   ]
  },
  {
   "cell_type": "markdown",
   "metadata": {},
   "source": [
    "Don't forget to run the rqt_graph to better understand what's going on."
   ]
  },
  {
   "cell_type": "code",
   "execution_count": null,
   "metadata": {},
   "outputs": [],
   "source": [
    "$ rosrun rqt_graph rqt_graph"
   ]
  }
 ],
 "metadata": {
  "kernelspec": {
   "display_name": "Python 2",
   "language": "python",
   "name": "python2"
  },
  "language_info": {
   "codemirror_mode": {
    "name": "ipython",
    "version": 2
   },
   "file_extension": ".py",
   "mimetype": "text/x-python",
   "name": "python",
   "nbconvert_exporter": "python",
   "pygments_lexer": "ipython2",
   "version": "2.7.16"
  }
 },
 "nbformat": 4,
 "nbformat_minor": 1
}
