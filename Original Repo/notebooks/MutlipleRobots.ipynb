{
 "cells": [
  {
   "cell_type": "markdown",
   "metadata": {},
   "source": [
    "## Working with multiple robots - assignment 2\n",
    "\n"
   ]
  },
  {
   "cell_type": "markdown",
   "metadata": {},
   "source": [
    "In onw terminal run two turtlebots"
   ]
  },
  {
   "cell_type": "code",
   "execution_count": null,
   "metadata": {},
   "outputs": [],
   "source": [
    "$ cd ~/catkin_ws/;source devel/setup.bash;export TURTLEBOT3_MODEL=burger\n",
    "$ roslaunch turtlebot3_67301 multi_turtlebot3.launch"
   ]
  },
  {
   "cell_type": "markdown",
   "metadata": {},
   "source": [
    "In a new terminal, run the navigation stack for the two robots. You can specify your desired map. "
   ]
  },
  {
   "cell_type": "code",
   "execution_count": null,
   "metadata": {},
   "outputs": [],
   "source": [
    "$ cd ~/catkin_ws/;source devel/setup.bash;export TURTLEBOT3_MODEL=burger\n",
    "$ roslaunch turtlebot3_67301 multi_turtlebot3_navigation.launch  map_file:=$HOME/catkin_ws/src/turtlebot3_67301/maps/closed_room.yaml\n",
    "    "
   ]
  },
  {
   "cell_type": "markdown",
   "metadata": {},
   "source": [
    "In a new terminal, run the dirt_publisher which publishes the locations of the dirt pieces"
   ]
  },
  {
   "cell_type": "code",
   "execution_count": null,
   "metadata": {},
   "outputs": [],
   "source": [
    "$ cd ~/catkin_ws/;source devel/setup.bash;export TURTLEBOT3_MODEL=burger\n",
    "$ rosrun turtlebot3_67301 dirt_publisher.py \n",
    "    "
   ]
  },
  {
   "cell_type": "markdown",
   "metadata": {},
   "source": [
    "Open the rviz window by clicking the small computer icon on the bottom left. In order to run your solution, we will now use the python module assignment_1.py. You will support one of two options: cleaning or inspection.\n",
    "For cleaning you will recieve as intput the id of your robot (0 in the example below) and an array specfying the locations of dirt (e.g., x=1 y=4) "
   ]
  },
  {
   "cell_type": "code",
   "execution_count": null,
   "metadata": {},
   "outputs": [],
   "source": [
    "$ cd ~/catkin_ws/; source devel/setup.bash;export TURTLEBOT3_MODEL=burger\n",
    "$ rosrun turtlebot3_67301 assignment_2.py cleaning 0"
   ]
  },
  {
   "cell_type": "code",
   "execution_count": null,
   "metadata": {},
   "outputs": [],
   "source": [
    "$ cd ~/catkin_ws/; source devel/setup.bash;export TURTLEBOT3_MODEL=burger\n",
    "$ rosrun turtlebot3_67301 assignment_2.py inspection"
   ]
  }
 ],
 "metadata": {
  "kernelspec": {
   "display_name": "Python 2",
   "language": "python",
   "name": "python2"
  },
  "language_info": {
   "codemirror_mode": {
    "name": "ipython",
    "version": 2
   },
   "file_extension": ".py",
   "mimetype": "text/x-python",
   "name": "python",
   "nbconvert_exporter": "python",
   "pygments_lexer": "ipython2",
   "version": "2.7.16"
  }
 },
 "nbformat": 4,
 "nbformat_minor": 1
}
